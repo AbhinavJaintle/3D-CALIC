{
  "nbformat": 4,
  "nbformat_minor": 0,
  "metadata": {
    "colab": {
      "provenance": []
    },
    "kernelspec": {
      "name": "python3",
      "display_name": "Python 3"
    },
    "language_info": {
      "name": "python"
    }
  },
  "cells": [
    {
      "cell_type": "code",
      "execution_count": 12,
      "metadata": {
        "id": "D2jy0RTe5nZ2"
      },
      "outputs": [],
      "source": [
        "import cv2\n",
        "from osgeo import gdal"
      ]
    },
    {
      "cell_type": "code",
      "source": [
        "destinationFile = 'GeoreorderdWithOpenCV.jpeg'\n",
        "inpuDataset = gdal.Open('/content/moon.tiff')\n",
        "format = 'JPEG'"
      ],
      "metadata": {
        "id": "smJtj1EV5y56"
      },
      "execution_count": 16,
      "outputs": []
    },
    {
      "cell_type": "code",
      "source": [
        "driver = gdal.GetDriverByName(format)\n",
        "\n",
        "outputDataset = driver.CreateCopy(destinationFile, inpuDataset, 0)\n",
        "\n",
        "inpuDataset = None\n",
        "outputDataset = None"
      ],
      "metadata": {
        "id": "9TBUeH9Q61lZ"
      },
      "execution_count": 17,
      "outputs": []
    },
    {
      "cell_type": "code",
      "source": [
        "image = cv2.imread(destinationFile, cv2.IMREAD_LOAD_GDAL)\n",
        "print(image.shape)\n",
        "reordered = image[..., [1, 0, 2]]"
      ],
      "metadata": {
        "colab": {
          "base_uri": "https://localhost:8080/"
        },
        "id": "xpdUKetP65lT",
        "outputId": "966ed76c-5586-402e-fecd-38fd3c96e7b0"
      },
      "execution_count": 18,
      "outputs": [
        {
          "output_type": "stream",
          "name": "stdout",
          "text": [
            "(512, 512)\n"
          ]
        }
      ]
    },
    {
      "cell_type": "code",
      "source": [
        "cv2.imwrite(destinationFile, reordered)"
      ],
      "metadata": {
        "colab": {
          "base_uri": "https://localhost:8080/"
        },
        "id": "_FiRBhyv67ow",
        "outputId": "5eee60f2-bded-48a6-db11-3a5251cee6ef"
      },
      "execution_count": 19,
      "outputs": [
        {
          "output_type": "execute_result",
          "data": {
            "text/plain": [
              "True"
            ]
          },
          "metadata": {},
          "execution_count": 19
        }
      ]
    },
    {
      "cell_type": "code",
      "source": [],
      "metadata": {
        "id": "Tk8uRKVc6_lo"
      },
      "execution_count": null,
      "outputs": []
    }
  ]
}